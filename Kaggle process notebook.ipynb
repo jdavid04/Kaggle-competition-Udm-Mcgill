{
 "cells": [
  {
   "cell_type": "code",
   "execution_count": 1,
   "metadata": {},
   "outputs": [],
   "source": [
    "import numpy as np\n",
    "import pandas as pd\n",
    "import matplotlib.pyplot as plt\n",
    "from sklearn.svm import SVC\n",
    "from sklearn.linear_model import LogisticRegression\n",
    "from sklearn.naive_bayes import GaussianNB\n",
    "from sklearn.model_selection import KFold\n",
    "from sklearn.preprocessing import LabelEncoder\n",
    "from sklearn.model_selection import train_test_split\n",
    "from sklearn.neural_network import MLPClassifier\n",
    "from sklearn.ensemble import RandomForestClassifier, GradientBoostingClassifier\n",
    "\n",
    "%load_ext autoreload\n",
    "%autoreload 2"
   ]
  },
  {
   "cell_type": "markdown",
   "metadata": {},
   "source": [
    "### Data pre-processing"
   ]
  },
  {
   "cell_type": "code",
   "execution_count": 2,
   "metadata": {
    "collapsed": true
   },
   "outputs": [],
   "source": [
    "train_path = \"/Users/julienhorwood/Documents/Masters courses/IFT1630/Assignments/Assignment4/Data/train_rois4.npy\"\n",
    "test_path = \"/Users/julienhorwood/Documents/Masters courses/IFT1630/Assignments/Assignment4/Data/test_rois4.npy\"\n",
    "label_path = \"/Users/julienhorwood/Documents/Masters courses/IFT1630/Assignments/Assignment4/Data/train_labels.csv\"\n",
    "train_path_unprocessed = \"/Users/julienhorwood/Documents/Masters courses/IFT1630/Assignments/Assignment4/Data/train_images.npy\" \n",
    "\n",
    "\n",
    "train_data = np.load(train_path, encoding='latin1')[:,1]\n",
    "test_data = np.load(test_path, encoding='latin1')[:,1]\n",
    "train_data_unprocessed = np.load(train_path_unprocessed, encoding = \"latin1\")[:,1]\n",
    "\n",
    "train_labels = pd.read_csv(label_path)\n",
    "labels = np.array(train_labels)[:,1]\n",
    "label_encoder = LabelEncoder()\n",
    "labels = label_encoder.fit_transform(labels)\n",
    "\n",
    "baseline_train_unprocessed = np.array([train_data_unprocessed[i].reshape(10000) for i in range(len(train_data_unprocessed))])\n",
    "Xtrain_un,Xvalid_un,ytrain_un, yvalid_un = train_test_split(baseline_train_unprocessed,labels, test_size= 0.1, random_state = 0)\n",
    "baseline_train = np.array([train_data[i].reshape(784) for i in range(len(train_data))])\n",
    "Xtrain,Xvalid,ytrain, yvalid = train_test_split(baseline_train,labels, test_size= 0.1, random_state = 0)\n",
    "train_data = np.array([train_data[i].reshape(1,28,28) for i in range(len(train_data))])"
   ]
  },
  {
   "cell_type": "markdown",
   "metadata": {},
   "source": [
    "### Training baselines on unprocessed data (100 x 100 images)"
   ]
  },
  {
   "cell_type": "code",
   "execution_count": 3,
   "metadata": {
    "collapsed": true
   },
   "outputs": [],
   "source": [
    "logreg= LogisticRegression(class_weight = \"balanced\", multi_class='multinomial', solver='saga')\n",
    "nb = GaussianNB()\n",
    "mlp = MLPClassifier(hidden_layer_sizes=(100), learning_rate_init = 0.01, learning_rate = 'adaptive')"
   ]
  },
  {
   "cell_type": "code",
   "execution_count": 4,
   "metadata": {},
   "outputs": [
    {
     "name": "stderr",
     "output_type": "stream",
     "text": [
      "/anaconda/envs/fondements_ml/lib/python3.6/site-packages/sklearn/linear_model/sag.py:334: ConvergenceWarning: The max_iter was reached which means the coef_ did not converge\n",
      "  \"the coef_ did not converge\", ConvergenceWarning)\n"
     ]
    },
    {
     "data": {
      "text/plain": [
       "LogisticRegression(C=1.0, class_weight='balanced', dual=False,\n",
       "          fit_intercept=True, intercept_scaling=1, max_iter=100,\n",
       "          multi_class='multinomial', n_jobs=None, penalty='l2',\n",
       "          random_state=None, solver='saga', tol=0.0001, verbose=0,\n",
       "          warm_start=False)"
      ]
     },
     "execution_count": 4,
     "metadata": {},
     "output_type": "execute_result"
    }
   ],
   "source": [
    "nb.fit(Xtrain_un,ytrain_un)\n",
    "mlp.fit(Xtrain_un,ytrain_un)\n",
    "logreg.fit(Xtrain_un,ytrain_un)"
   ]
  },
  {
   "cell_type": "markdown",
   "metadata": {},
   "source": [
    "### Testing baselines on unprocessed data (100 x 100 images)"
   ]
  },
  {
   "cell_type": "code",
   "execution_count": 5,
   "metadata": {},
   "outputs": [
    {
     "name": "stdout",
     "output_type": "stream",
     "text": [
      "Naive bayes accuracy:  5.1 %\n",
      "Logistic Regression accuracy:  3.5000000000000004 %\n",
      "MLP accuracy:  5.0 %\n"
     ]
    }
   ],
   "source": [
    "#Naive bayes predictions\n",
    "nb_preds = nb.predict(Xvalid_un)\n",
    "num_correct_nb= np.sum(nb_preds == yvalid_un)\n",
    "\n",
    "#MLP Classifier predictions\n",
    "mlp_preds = mlp.predict(Xvalid_un)\n",
    "num_correct_mlp= np.sum(mlp_preds == yvalid_un)\n",
    "\n",
    "#Logistic Regression predictions\n",
    "logreg_preds = logreg.predict(Xvalid_un)\n",
    "num_correct_logreg = np.sum(logreg_preds == yvalid_un)\n",
    "\n",
    "#Output results\n",
    "print(\"Naive bayes accuracy: \", num_correct_nb/len(yvalid_un) * 100, \"%\")\n",
    "print(\"Logistic Regression accuracy: \", num_correct_logreg/len(yvalid_un) * 100, \"%\")\n",
    "print(\"MLP accuracy: \", num_correct_mlp/len(yvalid_un) * 100, \"%\")"
   ]
  },
  {
   "cell_type": "markdown",
   "metadata": {},
   "source": [
    "### Training baselines on processed data (28 x 28 images)"
   ]
  },
  {
   "cell_type": "code",
   "execution_count": 6,
   "metadata": {},
   "outputs": [
    {
     "name": "stderr",
     "output_type": "stream",
     "text": [
      "/anaconda/envs/fondements_ml/lib/python3.6/site-packages/sklearn/linear_model/sag.py:334: ConvergenceWarning: The max_iter was reached which means the coef_ did not converge\n",
      "  \"the coef_ did not converge\", ConvergenceWarning)\n"
     ]
    },
    {
     "data": {
      "text/plain": [
       "LogisticRegression(C=1.0, class_weight='balanced', dual=False,\n",
       "          fit_intercept=True, intercept_scaling=1, max_iter=100,\n",
       "          multi_class='multinomial', n_jobs=None, penalty='l2',\n",
       "          random_state=None, solver='saga', tol=0.0001, verbose=0,\n",
       "          warm_start=False)"
      ]
     },
     "execution_count": 6,
     "metadata": {},
     "output_type": "execute_result"
    }
   ],
   "source": [
    "nb.fit(Xtrain,ytrain)\n",
    "mlp.fit(Xtrain,ytrain)\n",
    "logreg.fit(Xtrain,ytrain)"
   ]
  },
  {
   "cell_type": "markdown",
   "metadata": {},
   "source": [
    "### Testing baselines on processed data (28 x 28 images)"
   ]
  },
  {
   "cell_type": "code",
   "execution_count": 7,
   "metadata": {},
   "outputs": [
    {
     "name": "stdout",
     "output_type": "stream",
     "text": [
      "Naive bayes accuracy:  29.099999999999998 %\n",
      "Logistic Regression accuracy:  43.7 %\n",
      "MLP accuracy:  48.8 %\n"
     ]
    }
   ],
   "source": [
    "#Naive bayes predictions\n",
    "nb_preds = nb.predict(Xvalid)\n",
    "num_correct_nb= np.sum(nb_preds == yvalid)\n",
    "\n",
    "#MLP Classifier predictions\n",
    "mlp_preds = mlp.predict(Xvalid)\n",
    "num_correct_mlp= np.sum(mlp_preds == yvalid)\n",
    "\n",
    "#Logistic Regression predictions\n",
    "logreg_preds = logreg.predict(Xvalid)\n",
    "num_correct_logreg = np.sum(logreg_preds == yvalid)\n",
    "\n",
    "#Output results\n",
    "print(\"Naive bayes accuracy: \", num_correct_nb/len(yvalid) * 100, \"%\")\n",
    "print(\"Logistic Regression accuracy: \", num_correct_logreg/len(yvalid) * 100, \"%\")\n",
    "print(\"MLP accuracy: \", num_correct_mlp/len(yvalid) * 100, \"%\")"
   ]
  },
  {
   "cell_type": "markdown",
   "metadata": {},
   "source": [
    "Clearly, processing the data has a huge effect on the tractability of this learning task. Indeed, going from approximately 5% to 50% accuracy on the baselines confirms that we need only focused on the processed dataset as we move away from baseline scikit-learn models. Furthermore, the 28x28 format of the processed images is much more efficient to deal with in training."
   ]
  },
  {
   "cell_type": "markdown",
   "metadata": {},
   "source": [
    "### Convnet\n",
    "\n",
    "We present below some initial results using a CNN model. We note however that final results and architecture may differ as hyperparameter experimentation will be done directly from the python modules. We present the following in the notebook to describe the evolution of the methods used."
   ]
  },
  {
   "cell_type": "code",
   "execution_count": 8,
   "metadata": {
    "collapsed": true
   },
   "outputs": [],
   "source": [
    "import numpy as np\n",
    "import pandas as pd\n",
    "import matplotlib.pyplot as plt\n",
    "import os\n",
    "import pickle\n",
    "import random\n",
    "import torch\n",
    "import torch.nn as nn\n",
    "import torch.nn.functional as F\n",
    "import torch.optim as optim\n",
    "from torchvision import datasets, transforms\n",
    "from torch.utils.data import DataLoader,Dataset\n",
    "from torch.utils.data.sampler import SubsetRandomSampler\n",
    "from sklearn.preprocessing import LabelEncoder\n",
    "%matplotlib inline\n",
    "import random\n",
    "from kaggle_model import cnn\n",
    "import matplotlib.ticker as ticker"
   ]
  },
  {
   "cell_type": "markdown",
   "metadata": {},
   "source": [
    "### Data Loading"
   ]
  },
  {
   "cell_type": "code",
   "execution_count": 9,
   "metadata": {
    "collapsed": true
   },
   "outputs": [],
   "source": [
    "class QuickDrawDataset(Dataset):\n",
    "\n",
    "    def __init__(self, data, labels, transform=None):\n",
    "        self.data =  data\n",
    "        self.labels = labels\n",
    "        self.transform = transform\n",
    "\n",
    "    def __len__(self):\n",
    "        return len(self.data)\n",
    "\n",
    "    def __getitem__(self, idx):\n",
    "        sample = self.data[idx].reshape(1,28,28)\n",
    "        target = self.labels[idx]\n",
    "\n",
    "        if self.transform:\n",
    "            sample = self.transform(sample)\n",
    "\n",
    "        return sample,target"
   ]
  },
  {
   "cell_type": "code",
   "execution_count": 16,
   "metadata": {},
   "outputs": [
    {
     "name": "stdout",
     "output_type": "stream",
     "text": [
      "This is the shape of one batch torch.Size([512, 1, 28, 28])\n",
      "target torch.Size([512])\n"
     ]
    },
    {
     "data": {
      "image/png": "[encoded data removed]",
      "text/plain": [
       "<Figure size 432x288 with 1 Axes>"
      ]
     },
     "metadata": {
      "needs_background": "light"
     },
     "output_type": "display_data"
    }
   ],
   "source": [
    "train_data_qd = QuickDrawDataset(Xtrain,ytrain)\n",
    "valid_data_qd = QuickDrawDataset(Xvalid,yvalid)\n",
    "batch_size = 64\n",
    "batch_size_eval = 512\n",
    "\n",
    "train_loader = DataLoader(\n",
    "    train_data_qd,\n",
    "    batch_size=batch_size,\n",
    ")\n",
    "\n",
    "valid_loader = DataLoader(\n",
    "    valid_data_qd,\n",
    "    batch_size=batch_size_eval,\n",
    ")\n",
    "\n",
    "for inputs,targets in valid_loader:\n",
    "    print(\"This is the shape of one batch\" ,inputs.shape)\n",
    "    print(\"target\", targets.shape)\n",
    "    img = inputs[0,0]\n",
    "    plt.imshow(img, cmap='Greys_r')\n",
    "    break"
   ]
  },
  {
   "cell_type": "markdown",
   "metadata": {},
   "source": [
    "### Train utilities"
   ]
  },
  {
   "cell_type": "code",
   "execution_count": 17,
   "metadata": {},
   "outputs": [
    {
     "name": "stdout",
     "output_type": "stream",
     "text": [
      "cpu\n"
     ]
    }
   ],
   "source": [
    "# If a GPU is available, use it\n",
    "if torch.cuda.is_available():\n",
    "    device = torch.device(\"cuda\")\n",
    "    use_cuda = True\n",
    "else:\n",
    "    device = torch.device(\"cpu\")\n",
    "    use_cuda = False\n",
    "    \n",
    "print(device)\n",
    "\n",
    "def train(model,train_loader, optimizer, epoch ):\n",
    "    \"\"\"Perform one epoch of training.\"\"\"\n",
    "    model.train()\n",
    "    \n",
    "    for batch_idx, (inputs, target) in enumerate(train_loader):\n",
    "        inputs, target = inputs.to(device), target.to(device)\n",
    "        \n",
    "        optimizer.zero_grad()\n",
    "        output = model(inputs)\n",
    "        loss = loss_fn(output, target)\n",
    "        loss.backward()\n",
    "        optimizer.step()\n",
    "        \n",
    "        \n",
    "        if batch_idx % 30 == 0:\n",
    "            print('Train Epoch: {} [{}/{} ({:.0f}%)]\\tLoss: {:.6f}'.format(\n",
    "                epoch, batch_idx * len(inputs), len(train_loader) *len(inputs) ,\n",
    "                100. * batch_idx / len(train_loader), loss.item()))\n",
    "def test(model, test_loader):\n",
    "    \"\"\"Evaluate the model by doing one pass over a dataset\"\"\"\n",
    "    model.eval()\n",
    "    \n",
    "    test_loss = 0\n",
    "    correct = 0\n",
    "    test_size = 0\n",
    "    with torch.no_grad():\n",
    "        for inputs, target in test_loader:\n",
    "            inputs, target = inputs.to(device), target.to(device)\n",
    "            \n",
    "            output = model(inputs)\n",
    "            test_size += len(inputs)\n",
    "            test_loss += test_loss_fn(output, target).item() # sum up batch loss\n",
    "            pred = output.max(1, keepdim=True)[1] # get the index of the max log-probability\n",
    "            correct += pred.eq(target.view_as(pred)).sum().item()\n",
    "\n",
    "    test_loss /= test_size\n",
    "    accuracy = correct / test_size\n",
    "    print('\\nTest set: Average loss: {:.4f}, Accuracy: {}/{} ({:.0f}%)\\n'.format(\n",
    "        test_loss, correct, test_size,\n",
    "        100. * accuracy))\n",
    "    \n",
    "    return test_loss, accuracy"
   ]
  },
  {
   "cell_type": "markdown",
   "metadata": {},
   "source": [
    "### Model training"
   ]
  },
  {
   "cell_type": "code",
   "execution_count": 20,
   "metadata": {
    "collapsed": true
   },
   "outputs": [],
   "source": [
    "model = cnn.KaggleNet()\n",
    "model = model.double()\n",
    "loss_fn = nn.CrossEntropyLoss()\n",
    "test_loss_fn = nn.CrossEntropyLoss(reduction='sum')\n",
    "lr = 0.001\n",
    "optimizer = optim.Adam(model.parameters(), lr = lr)"
   ]
  },
  {
   "cell_type": "code",
   "execution_count": 21,
   "metadata": {},
   "outputs": [
    {
     "name": "stdout",
     "output_type": "stream",
     "text": [
      "Train Epoch: 1 [0/9024 (0%)]\tLoss: 3.497482\n",
      "Train Epoch: 1 [1920/9024 (21%)]\tLoss: 2.171161\n",
      "Train Epoch: 1 [3840/9024 (43%)]\tLoss: 1.531027\n",
      "Train Epoch: 1 [5760/9024 (64%)]\tLoss: 1.471748\n",
      "Train Epoch: 1 [7680/9024 (85%)]\tLoss: 1.402158\n",
      "\n",
      "Test set: Average loss: 1.2490, Accuracy: 679/1000 (68%)\n",
      "\n",
      "Train Epoch: 2 [0/9024 (0%)]\tLoss: 1.385247\n",
      "Train Epoch: 2 [1920/9024 (21%)]\tLoss: 1.207096\n",
      "Train Epoch: 2 [3840/9024 (43%)]\tLoss: 1.023823\n",
      "Train Epoch: 2 [5760/9024 (64%)]\tLoss: 1.145536\n",
      "Train Epoch: 2 [7680/9024 (85%)]\tLoss: 1.021555\n",
      "\n",
      "Test set: Average loss: 1.1028, Accuracy: 710/1000 (71%)\n",
      "\n",
      "Train Epoch: 3 [0/9024 (0%)]\tLoss: 1.008782\n",
      "Train Epoch: 3 [1920/9024 (21%)]\tLoss: 1.005948\n",
      "Train Epoch: 3 [3840/9024 (43%)]\tLoss: 0.786624\n",
      "Train Epoch: 3 [5760/9024 (64%)]\tLoss: 0.818346\n",
      "Train Epoch: 3 [7680/9024 (85%)]\tLoss: 0.882437\n",
      "\n",
      "Test set: Average loss: 1.0325, Accuracy: 713/1000 (71%)\n",
      "\n",
      "Train Epoch: 4 [0/9024 (0%)]\tLoss: 0.864504\n",
      "Train Epoch: 4 [1920/9024 (21%)]\tLoss: 0.757779\n",
      "Train Epoch: 4 [3840/9024 (43%)]\tLoss: 0.544930\n",
      "Train Epoch: 4 [5760/9024 (64%)]\tLoss: 0.578556\n",
      "Train Epoch: 4 [7680/9024 (85%)]\tLoss: 0.706465\n",
      "\n",
      "Test set: Average loss: 1.0617, Accuracy: 713/1000 (71%)\n",
      "\n",
      "Train Epoch: 5 [0/9024 (0%)]\tLoss: 0.567040\n",
      "Train Epoch: 5 [1920/9024 (21%)]\tLoss: 0.664703\n",
      "Train Epoch: 5 [3840/9024 (43%)]\tLoss: 0.488336\n",
      "Train Epoch: 5 [5760/9024 (64%)]\tLoss: 0.499383\n",
      "Train Epoch: 5 [7680/9024 (85%)]\tLoss: 0.467832\n",
      "\n",
      "Test set: Average loss: 1.1075, Accuracy: 712/1000 (71%)\n",
      "\n",
      "Train Epoch: 6 [0/9024 (0%)]\tLoss: 0.526516\n",
      "Train Epoch: 6 [1920/9024 (21%)]\tLoss: 0.502497\n",
      "Train Epoch: 6 [3840/9024 (43%)]\tLoss: 0.523002\n",
      "Train Epoch: 6 [5760/9024 (64%)]\tLoss: 0.389650\n",
      "Train Epoch: 6 [7680/9024 (85%)]\tLoss: 0.338879\n",
      "\n",
      "Test set: Average loss: 1.0966, Accuracy: 722/1000 (72%)\n",
      "\n",
      "Train Epoch: 7 [0/9024 (0%)]\tLoss: 0.223298\n",
      "Train Epoch: 7 [1920/9024 (21%)]\tLoss: 0.348861\n",
      "Train Epoch: 7 [3840/9024 (43%)]\tLoss: 0.289054\n",
      "Train Epoch: 7 [5760/9024 (64%)]\tLoss: 0.210324\n",
      "Train Epoch: 7 [7680/9024 (85%)]\tLoss: 0.221388\n",
      "\n",
      "Test set: Average loss: 1.1184, Accuracy: 720/1000 (72%)\n",
      "\n",
      "Train Epoch: 8 [0/9024 (0%)]\tLoss: 0.300683\n",
      "Train Epoch: 8 [1920/9024 (21%)]\tLoss: 0.200588\n",
      "Train Epoch: 8 [3840/9024 (43%)]\tLoss: 0.278060\n",
      "Train Epoch: 8 [5760/9024 (64%)]\tLoss: 0.168260\n",
      "Train Epoch: 8 [7680/9024 (85%)]\tLoss: 0.180161\n",
      "\n",
      "Test set: Average loss: 1.1647, Accuracy: 738/1000 (74%)\n",
      "\n",
      "Train Epoch: 9 [0/9024 (0%)]\tLoss: 0.225765\n",
      "Train Epoch: 9 [1920/9024 (21%)]\tLoss: 0.178281\n",
      "Train Epoch: 9 [3840/9024 (43%)]\tLoss: 0.154241\n",
      "Train Epoch: 9 [5760/9024 (64%)]\tLoss: 0.155431\n",
      "Train Epoch: 9 [7680/9024 (85%)]\tLoss: 0.205215\n",
      "\n",
      "Test set: Average loss: 1.2339, Accuracy: 732/1000 (73%)\n",
      "\n"
     ]
    }
   ],
   "source": [
    "savedir = \"logs/\"\n",
    "\n",
    "results = {'name':'trainlog', 'lr': lr, 'loss': [], 'accuracy':[]}\n",
    "savefile = os.path.join(savedir, results['name']+str(results['lr'])+'.pkl' )\n",
    "\n",
    "for epoch in range(1, 10):\n",
    "    train(model, train_loader, optimizer, epoch)\n",
    "    loss, acc = test(model, valid_loader)\n",
    "    \n",
    "    # save results every epoch\n",
    "    results['loss'].append(loss)\n",
    "    results['accuracy'].append(acc)\n",
    "    with open(savefile, 'wb') as fout:\n",
    "        pickle.dump(results, fout)"
   ]
  },
  {
   "cell_type": "markdown",
   "metadata": {},
   "source": [
    "### Or just use skorch!"
   ]
  },
  {
   "cell_type": "code",
   "execution_count": 33,
   "metadata": {
    "collapsed": true
   },
   "outputs": [],
   "source": [
    "from skorch import NeuralNetClassifier\n",
    "from skorch.dataset import CVSplit"
   ]
  },
  {
   "cell_type": "code",
   "execution_count": 34,
   "metadata": {
    "collapsed": true
   },
   "outputs": [],
   "source": [
    "# If a GPU is available, use it\n",
    "if torch.cuda.is_available():\n",
    "    device = torch.device(\"cuda\")\n",
    "    use_cuda = True\n",
    "else:\n",
    "    device = torch.device(\"cpu\")\n",
    "    use_cuda = False\n",
    "\n",
    "#Run more epochs on GPU\n",
    "net = NeuralNetClassifier(module=cnn.KaggleNet().double(), criterion=nn.CrossEntropyLoss, optimizer = optim.Adam, \n",
    "                          lr= 0.001, max_epochs = 5, train_split = CVSplit(0.1, random_state = 0)\n",
    "                          , device = device, iterator_train__batch_size = 64, iterator_valid__batch_size=512)"
   ]
  },
  {
   "cell_type": "code",
   "execution_count": 35,
   "metadata": {},
   "outputs": [
    {
     "name": "stdout",
     "output_type": "stream",
     "text": [
      "  epoch    train_loss    valid_acc    valid_loss      dur\n",
      "-------  ------------  -----------  ------------  -------\n",
      "      1        \u001b[36m1.7733\u001b[0m       \u001b[32m0.6470\u001b[0m        \u001b[35m1.3104\u001b[0m  90.1788\n",
      "      2        \u001b[36m1.1169\u001b[0m       \u001b[32m0.6980\u001b[0m        \u001b[35m1.1192\u001b[0m  90.7736\n",
      "      3        \u001b[36m0.8726\u001b[0m       \u001b[32m0.7100\u001b[0m        \u001b[35m1.0738\u001b[0m  85.7015\n",
      "      4        \u001b[36m0.6882\u001b[0m       \u001b[32m0.7140\u001b[0m        \u001b[35m1.0585\u001b[0m  86.3894\n",
      "      5        \u001b[36m0.5369\u001b[0m       0.7140        1.0705  89.5813\n"
     ]
    },
    {
     "data": {
      "text/plain": [
       "<class 'skorch.classifier.NeuralNetClassifier'>[initialized](\n",
       "  module_=KaggleNet(\n",
       "    (conv1): Conv2d(1, 32, kernel_size=(5, 5), stride=(1, 1), padding=(2, 2))\n",
       "    (bn1): BatchNorm2d(32, eps=1e-05, momentum=0.1, affine=True, track_running_stats=True)\n",
       "    (conv2): Conv2d(32, 32, kernel_size=(3, 3), stride=(1, 1), padding=(1, 1))\n",
       "    (bn2): BatchNorm2d(32, eps=1e-05, momentum=0.1, affine=True, track_running_stats=True)\n",
       "    (conv3): Conv2d(32, 64, kernel_size=(3, 3), stride=(1, 1), padding=(1, 1))\n",
       "    (bn3): BatchNorm2d(64, eps=1e-05, momentum=0.1, affine=True, track_running_stats=True)\n",
       "    (dropout1): Dropout(p=0.2)\n",
       "    (fc1): Linear(in_features=3136, out_features=512, bias=True)\n",
       "    (bn4): BatchNorm1d(512, eps=1e-05, momentum=0.1, affine=True, track_running_stats=True)\n",
       "    (dropout2): Dropout(p=0.2)\n",
       "    (fc2): Linear(in_features=512, out_features=31, bias=True)\n",
       "  ),\n",
       ")"
      ]
     },
     "execution_count": 35,
     "metadata": {},
     "output_type": "execute_result"
    }
   ],
   "source": [
    "net.fit(train_data,labels)"
   ]
  },
  {
   "cell_type": "markdown",
   "metadata": {},
   "source": [
    "#### Easily persist and load the model"
   ]
  },
  {
   "cell_type": "code",
   "execution_count": 36,
   "metadata": {
    "collapsed": true
   },
   "outputs": [],
   "source": [
    "net.save_params(f_params='Model outputs/model_params.pkl', f_history='Model outputs/model_history.pkl', f_optimizer='Model outputs/model_optimizer.pkl')"
   ]
  },
  {
   "cell_type": "code",
   "execution_count": 37,
   "metadata": {
    "collapsed": true
   },
   "outputs": [],
   "source": [
    "#Loading\n",
    "net = NeuralNetClassifier(module = cnn.KaggleNet().double(), criterion = nn.CrossEntropyLoss)\n",
    "net.initialize()\n",
    "net.load_params('Model outputs/model_params.pkl', \n",
    "                f_history='Model outputs/model_history.pkl', f_optimizer='Model outputs/model_optimizer.pkl')"
   ]
  },
  {
   "cell_type": "markdown",
   "metadata": {},
   "source": [
    "### Plotting and metrics\n",
    "\n",
    "#### Learning curves"
   ]
  },
  {
   "cell_type": "code",
   "execution_count": 38,
   "metadata": {
    "collapsed": true
   },
   "outputs": [],
   "source": [
    "train_losses = net.history[:,'train_loss']\n",
    "valid_losses = net.history[:, 'valid_loss']\n",
    "accuracies = net.history[:, 'valid_acc']"
   ]
  },
  {
   "cell_type": "code",
   "execution_count": 39,
   "metadata": {},
   "outputs": [
    {
     "data": {
      "image/png": "[encoded data removed]",
      "text/plain": [
       "<Figure size 1440x360 with 3 Axes>"
      ]
     },
     "metadata": {
      "needs_background": "light"
     },
     "output_type": "display_data"
    }
   ],
   "source": [
    "fig, (ax1,ax2,ax3) = plt.subplots(1,3, figsize = (20,5))\n",
    "ax1.set_title(\"Training losses per epoch\")\n",
    "ax1.set_xlabel(\"Epochs\")\n",
    "ax1.set_ylabel(\"Cross Entropy\")\n",
    "ax1.plot(train_losses)\n",
    "\n",
    "ax2.set_title(\"Validation losses per epoch\")\n",
    "ax2.set_xlabel(\"Epochs\")\n",
    "ax2.set_ylabel(\"Cross Entropy\")\n",
    "ax2.plot(valid_losses)\n",
    "\n",
    "\n",
    "ax3.set_title(\"Validation accuracies per epoch\")\n",
    "ax3.set_xlabel(\"Epochs\")\n",
    "ax3.set_ylabel(\"Average accuracy\")\n",
    "ax3.plot(accuracies)\n",
    "\n",
    "fig.savefig(\"Analysis/learning_curves.png\")"
   ]
  },
  {
   "cell_type": "markdown",
   "metadata": {},
   "source": [
    "#### Confusion matrix"
   ]
  },
  {
   "cell_type": "code",
   "execution_count": 40,
   "metadata": {
    "collapsed": true
   },
   "outputs": [],
   "source": [
    "from sklearn.metrics import confusion_matrix"
   ]
  },
  {
   "cell_type": "code",
   "execution_count": 41,
   "metadata": {
    "collapsed": true
   },
   "outputs": [],
   "source": [
    "train,valid = CVSplit(0.1,random_state=0).__call__(train_data,labels)\n",
    "Xvalid, yvalid = valid.dataset[valid.indices], labels[valid.indices]\n",
    "preds = net.predict(Xvalid)\n",
    "cm = confusion_matrix(y_pred= preds,y_true=yvalid)"
   ]
  },
  {
   "cell_type": "code",
   "execution_count": 42,
   "metadata": {},
   "outputs": [
    {
     "data": {
      "image/png": "[encoded data removed]",
      "text/plain": [
       "<Figure size 1080x720 with 2 Axes>"
      ]
     },
     "metadata": {
      "needs_background": "light"
     },
     "output_type": "display_data"
    }
   ],
   "source": [
    "fig = plt.figure(figsize=(15,10))\n",
    "ax = fig.add_subplot(111)\n",
    "fig.suptitle('Confusion matrix')\n",
    "cm = cm/cm.sum(axis=1)[: np.newaxis]\n",
    "fig.colorbar(ax.matshow(cm,cmap = plt.cm.Greens))\n",
    "\n",
    "#Fixing tick labels to add first and last dummy\n",
    "ticks = [0]\n",
    "ticks.extend(label_encoder.inverse_transform(range(31)))\n",
    "ticks.append(0)\n",
    "\n",
    "# Set up axes\n",
    "ax.set_xticklabels(ticks, rotation=90)\n",
    "ax.set_yticklabels(ticks)\n",
    "\n",
    "# Force label at every tick\n",
    "ax.xaxis.set_major_locator(ticker.MultipleLocator(1))\n",
    "ax.yaxis.set_major_locator(ticker.MultipleLocator(1))\n",
    "\n",
    "ax.set_ylabel('True label')\n",
    "ax.set_xlabel('Predicted label')\n",
    "\n",
    "fig.savefig(\"Analysis/confusion_matrix.png\")"
   ]
  },
  {
   "cell_type": "markdown",
   "metadata": {},
   "source": [
    "#### Per class f1 and accuracy scores"
   ]
  },
  {
   "cell_type": "code",
   "execution_count": 43,
   "metadata": {},
   "outputs": [
    {
     "data": {
      "text/html": [
       "<div>\n",
       "<style scoped>\n",
       "    .dataframe tbody tr th:only-of-type {\n",
       "        vertical-align: middle;\n",
       "    }\n",
       "\n",
       "    .dataframe tbody tr th {\n",
       "        vertical-align: top;\n",
       "    }\n",
       "\n",
       "    .dataframe thead th {\n",
       "        text-align: right;\n",
       "    }\n",
       "</style>\n",
       "<table border=\"1\" class=\"dataframe\">\n",
       "  <thead>\n",
       "    <tr style=\"text-align: right;\">\n",
       "      <th></th>\n",
       "      <th>precision</th>\n",
       "      <th>recall</th>\n",
       "      <th>f1-score</th>\n",
       "      <th>accuracy</th>\n",
       "      <th>support</th>\n",
       "    </tr>\n",
       "  </thead>\n",
       "  <tbody>\n",
       "    <tr>\n",
       "      <th>apple</th>\n",
       "      <td>0.88</td>\n",
       "      <td>0.70</td>\n",
       "      <td>0.78</td>\n",
       "      <td>0.70</td>\n",
       "      <td>33.00</td>\n",
       "    </tr>\n",
       "    <tr>\n",
       "      <th>empty</th>\n",
       "      <td>0.94</td>\n",
       "      <td>0.87</td>\n",
       "      <td>0.91</td>\n",
       "      <td>0.87</td>\n",
       "      <td>39.00</td>\n",
       "    </tr>\n",
       "    <tr>\n",
       "      <th>moustache</th>\n",
       "      <td>0.67</td>\n",
       "      <td>0.83</td>\n",
       "      <td>0.74</td>\n",
       "      <td>0.83</td>\n",
       "      <td>47.00</td>\n",
       "    </tr>\n",
       "    <tr>\n",
       "      <th>mouth</th>\n",
       "      <td>0.70</td>\n",
       "      <td>0.74</td>\n",
       "      <td>0.72</td>\n",
       "      <td>0.74</td>\n",
       "      <td>50.00</td>\n",
       "    </tr>\n",
       "    <tr>\n",
       "      <th>mug</th>\n",
       "      <td>0.97</td>\n",
       "      <td>0.86</td>\n",
       "      <td>0.91</td>\n",
       "      <td>0.86</td>\n",
       "      <td>43.00</td>\n",
       "    </tr>\n",
       "    <tr>\n",
       "      <th>nail</th>\n",
       "      <td>0.74</td>\n",
       "      <td>0.56</td>\n",
       "      <td>0.64</td>\n",
       "      <td>0.56</td>\n",
       "      <td>41.00</td>\n",
       "    </tr>\n",
       "    <tr>\n",
       "      <th>nose</th>\n",
       "      <td>1.00</td>\n",
       "      <td>0.58</td>\n",
       "      <td>0.74</td>\n",
       "      <td>0.58</td>\n",
       "      <td>12.00</td>\n",
       "    </tr>\n",
       "    <tr>\n",
       "      <th>octagon</th>\n",
       "      <td>0.85</td>\n",
       "      <td>0.78</td>\n",
       "      <td>0.81</td>\n",
       "      <td>0.78</td>\n",
       "      <td>50.00</td>\n",
       "    </tr>\n",
       "    <tr>\n",
       "      <th>paintbrush</th>\n",
       "      <td>0.67</td>\n",
       "      <td>0.38</td>\n",
       "      <td>0.48</td>\n",
       "      <td>0.38</td>\n",
       "      <td>32.00</td>\n",
       "    </tr>\n",
       "    <tr>\n",
       "      <th>panda</th>\n",
       "      <td>0.88</td>\n",
       "      <td>0.54</td>\n",
       "      <td>0.67</td>\n",
       "      <td>0.54</td>\n",
       "      <td>26.00</td>\n",
       "    </tr>\n",
       "    <tr>\n",
       "      <th>parrot</th>\n",
       "      <td>0.36</td>\n",
       "      <td>0.47</td>\n",
       "      <td>0.41</td>\n",
       "      <td>0.47</td>\n",
       "      <td>17.00</td>\n",
       "    </tr>\n",
       "    <tr>\n",
       "      <th>peanut</th>\n",
       "      <td>0.56</td>\n",
       "      <td>0.59</td>\n",
       "      <td>0.57</td>\n",
       "      <td>0.59</td>\n",
       "      <td>17.00</td>\n",
       "    </tr>\n",
       "    <tr>\n",
       "      <th>pear</th>\n",
       "      <td>0.64</td>\n",
       "      <td>0.64</td>\n",
       "      <td>0.64</td>\n",
       "      <td>0.64</td>\n",
       "      <td>14.00</td>\n",
       "    </tr>\n",
       "    <tr>\n",
       "      <th>pencil</th>\n",
       "      <td>0.67</td>\n",
       "      <td>0.59</td>\n",
       "      <td>0.63</td>\n",
       "      <td>0.59</td>\n",
       "      <td>27.00</td>\n",
       "    </tr>\n",
       "    <tr>\n",
       "      <th>penguin</th>\n",
       "      <td>0.86</td>\n",
       "      <td>0.74</td>\n",
       "      <td>0.80</td>\n",
       "      <td>0.74</td>\n",
       "      <td>43.00</td>\n",
       "    </tr>\n",
       "    <tr>\n",
       "      <th>pillow</th>\n",
       "      <td>0.61</td>\n",
       "      <td>0.89</td>\n",
       "      <td>0.72</td>\n",
       "      <td>0.89</td>\n",
       "      <td>19.00</td>\n",
       "    </tr>\n",
       "    <tr>\n",
       "      <th>pineapple</th>\n",
       "      <td>0.75</td>\n",
       "      <td>0.96</td>\n",
       "      <td>0.84</td>\n",
       "      <td>0.96</td>\n",
       "      <td>49.00</td>\n",
       "    </tr>\n",
       "    <tr>\n",
       "      <th>pool</th>\n",
       "      <td>0.60</td>\n",
       "      <td>0.75</td>\n",
       "      <td>0.67</td>\n",
       "      <td>0.75</td>\n",
       "      <td>55.00</td>\n",
       "    </tr>\n",
       "    <tr>\n",
       "      <th>rabbit</th>\n",
       "      <td>0.68</td>\n",
       "      <td>0.64</td>\n",
       "      <td>0.66</td>\n",
       "      <td>0.64</td>\n",
       "      <td>39.00</td>\n",
       "    </tr>\n",
       "    <tr>\n",
       "      <th>rhinoceros</th>\n",
       "      <td>0.54</td>\n",
       "      <td>0.67</td>\n",
       "      <td>0.60</td>\n",
       "      <td>0.67</td>\n",
       "      <td>21.00</td>\n",
       "    </tr>\n",
       "    <tr>\n",
       "      <th>rifle</th>\n",
       "      <td>0.63</td>\n",
       "      <td>0.86</td>\n",
       "      <td>0.73</td>\n",
       "      <td>0.86</td>\n",
       "      <td>44.00</td>\n",
       "    </tr>\n",
       "    <tr>\n",
       "      <th>rollerskates</th>\n",
       "      <td>0.70</td>\n",
       "      <td>0.76</td>\n",
       "      <td>0.73</td>\n",
       "      <td>0.76</td>\n",
       "      <td>21.00</td>\n",
       "    </tr>\n",
       "    <tr>\n",
       "      <th>sailboat</th>\n",
       "      <td>0.69</td>\n",
       "      <td>0.79</td>\n",
       "      <td>0.74</td>\n",
       "      <td>0.79</td>\n",
       "      <td>34.00</td>\n",
       "    </tr>\n",
       "    <tr>\n",
       "      <th>scorpion</th>\n",
       "      <td>0.66</td>\n",
       "      <td>0.64</td>\n",
       "      <td>0.65</td>\n",
       "      <td>0.64</td>\n",
       "      <td>42.00</td>\n",
       "    </tr>\n",
       "    <tr>\n",
       "      <th>screwdriver</th>\n",
       "      <td>0.71</td>\n",
       "      <td>0.43</td>\n",
       "      <td>0.54</td>\n",
       "      <td>0.43</td>\n",
       "      <td>23.00</td>\n",
       "    </tr>\n",
       "    <tr>\n",
       "      <th>shovel</th>\n",
       "      <td>0.57</td>\n",
       "      <td>0.55</td>\n",
       "      <td>0.56</td>\n",
       "      <td>0.55</td>\n",
       "      <td>29.00</td>\n",
       "    </tr>\n",
       "    <tr>\n",
       "      <th>sink</th>\n",
       "      <td>0.78</td>\n",
       "      <td>0.72</td>\n",
       "      <td>0.75</td>\n",
       "      <td>0.72</td>\n",
       "      <td>25.00</td>\n",
       "    </tr>\n",
       "    <tr>\n",
       "      <th>skateboard</th>\n",
       "      <td>0.83</td>\n",
       "      <td>0.88</td>\n",
       "      <td>0.85</td>\n",
       "      <td>0.88</td>\n",
       "      <td>50.00</td>\n",
       "    </tr>\n",
       "    <tr>\n",
       "      <th>skull</th>\n",
       "      <td>0.89</td>\n",
       "      <td>0.96</td>\n",
       "      <td>0.92</td>\n",
       "      <td>0.96</td>\n",
       "      <td>25.00</td>\n",
       "    </tr>\n",
       "    <tr>\n",
       "      <th>spoon</th>\n",
       "      <td>0.27</td>\n",
       "      <td>0.31</td>\n",
       "      <td>0.29</td>\n",
       "      <td>0.31</td>\n",
       "      <td>13.00</td>\n",
       "    </tr>\n",
       "    <tr>\n",
       "      <th>squiggle</th>\n",
       "      <td>0.55</td>\n",
       "      <td>0.30</td>\n",
       "      <td>0.39</td>\n",
       "      <td>0.30</td>\n",
       "      <td>20.00</td>\n",
       "    </tr>\n",
       "    <tr>\n",
       "      <th>average</th>\n",
       "      <td>0.70</td>\n",
       "      <td>0.68</td>\n",
       "      <td>0.68</td>\n",
       "      <td>0.68</td>\n",
       "      <td>32.26</td>\n",
       "    </tr>\n",
       "    <tr>\n",
       "      <th>weighted average</th>\n",
       "      <td>0.73</td>\n",
       "      <td>0.71</td>\n",
       "      <td>0.71</td>\n",
       "      <td>0.71</td>\n",
       "      <td>32.26</td>\n",
       "    </tr>\n",
       "  </tbody>\n",
       "</table>\n",
       "</div>"
      ],
      "text/plain": [
       "                  precision  recall  f1-score  accuracy  support\n",
       "apple                  0.88    0.70      0.78      0.70    33.00\n",
       "empty                  0.94    0.87      0.91      0.87    39.00\n",
       "moustache              0.67    0.83      0.74      0.83    47.00\n",
       "mouth                  0.70    0.74      0.72      0.74    50.00\n",
       "mug                    0.97    0.86      0.91      0.86    43.00\n",
       "nail                   0.74    0.56      0.64      0.56    41.00\n",
       "nose                   1.00    0.58      0.74      0.58    12.00\n",
       "octagon                0.85    0.78      0.81      0.78    50.00\n",
       "paintbrush             0.67    0.38      0.48      0.38    32.00\n",
       "panda                  0.88    0.54      0.67      0.54    26.00\n",
       "parrot                 0.36    0.47      0.41      0.47    17.00\n",
       "peanut                 0.56    0.59      0.57      0.59    17.00\n",
       "pear                   0.64    0.64      0.64      0.64    14.00\n",
       "pencil                 0.67    0.59      0.63      0.59    27.00\n",
       "penguin                0.86    0.74      0.80      0.74    43.00\n",
       "pillow                 0.61    0.89      0.72      0.89    19.00\n",
       "pineapple              0.75    0.96      0.84      0.96    49.00\n",
       "pool                   0.60    0.75      0.67      0.75    55.00\n",
       "rabbit                 0.68    0.64      0.66      0.64    39.00\n",
       "rhinoceros             0.54    0.67      0.60      0.67    21.00\n",
       "rifle                  0.63    0.86      0.73      0.86    44.00\n",
       "rollerskates           0.70    0.76      0.73      0.76    21.00\n",
       "sailboat               0.69    0.79      0.74      0.79    34.00\n",
       "scorpion               0.66    0.64      0.65      0.64    42.00\n",
       "screwdriver            0.71    0.43      0.54      0.43    23.00\n",
       "shovel                 0.57    0.55      0.56      0.55    29.00\n",
       "sink                   0.78    0.72      0.75      0.72    25.00\n",
       "skateboard             0.83    0.88      0.85      0.88    50.00\n",
       "skull                  0.89    0.96      0.92      0.96    25.00\n",
       "spoon                  0.27    0.31      0.29      0.31    13.00\n",
       "squiggle               0.55    0.30      0.39      0.30    20.00\n",
       "average                0.70    0.68      0.68      0.68    32.26\n",
       "weighted average       0.73    0.71      0.71      0.71    32.26"
      ]
     },
     "execution_count": 43,
     "metadata": {},
     "output_type": "execute_result"
    }
   ],
   "source": [
    "from sklearn.metrics import precision_recall_fscore_support,classification_report\n",
    "report = precision_recall_fscore_support(yvalid, preds)\n",
    "\n",
    "#Compute class accuracies\n",
    "class_acc = []\n",
    "for i in range(31):\n",
    "    idx = np.where(yvalid == i)\n",
    "    class_acc.append(np.mean(preds[idx] == i).round(2))\n",
    "    \n",
    "out_dict = {\n",
    "             \"precision\" : report[0].round(2)\n",
    "            ,\"recall\" : report[1].round(2)\n",
    "            ,\"f1-score\" : report[2].round(2)\n",
    "            , \"accuracy\" : class_acc\n",
    "            ,\"support\" : report[3]\n",
    "            }\n",
    "out_df = pd.DataFrame(out_dict, index = ticks[1:32])\n",
    "\n",
    "\n",
    "    \n",
    "#Compute average\n",
    "averages = out_df.mean(axis = 0).round(2).to_frame().T\n",
    "averages.index = [\"average\"]\n",
    "\n",
    "#Compute weighted average\n",
    "w_precision = (np.array(out_df.precision * out_df.support).sum()/(out_df.support.sum())).round(2)\n",
    "w_recall = (np.array(out_df.recall * out_df.support).sum()/(out_df.support.sum())).round(2)\n",
    "w_f1 = (np.array(out_df['f1-score'] * out_df.support).sum()/(out_df.support.sum())).round(2)\n",
    "w_accuracy = (np.array(out_df.accuracy * out_df.support).sum()/(out_df.support.sum())).round(2)\n",
    "w_support = np.mean(out_df.support).round(2)\n",
    "w_averages = pd.DataFrame({'precision' : w_precision,'recall': w_recall, \n",
    "                           'f1-score': w_f1,'accuracy' : w_accuracy,'support': w_support},index=['weighted average'])\n",
    "w_averages.index = ['weighted average']\n",
    "\n",
    "\n",
    "out_df = out_df.append(averages)\n",
    "out_df = out_df.append(w_averages)\n",
    "\n",
    "\n",
    "out_df.to_csv(\"Analysis/validation_scoring.csv\")\n",
    "out_df"
   ]
  }
 ],
 "metadata": {
  "kernelspec": {
   "display_name": "Python [conda env:fondements_ml]",
   "language": "python",
   "name": "conda-env-fondements_ml-py"
  },
  "language_info": {
   "codemirror_mode": {
    "name": "ipython",
    "version": 3
   },
   "file_extension": ".py",
   "mimetype": "text/x-python",
   "name": "python",
   "nbconvert_exporter": "python",
   "pygments_lexer": "ipython3",
   "version": "3.6.3"
  }
 },
 "nbformat": 4,
 "nbformat_minor": 2
}
