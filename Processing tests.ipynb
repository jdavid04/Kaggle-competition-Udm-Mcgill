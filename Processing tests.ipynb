{
 "cells": [
  {
   "cell_type": "code",
   "execution_count": 47,
   "metadata": {},
   "outputs": [],
   "source": [
    "import numpy as np\n",
    "import pandas as pd\n",
    "import matplotlib.pyplot as plt\n",
    "from sklearn.preprocessing import LabelEncoder\n",
    "from sklearn.model_selection import train_test_split"
   ]
  },
  {
   "cell_type": "code",
   "execution_count": 51,
   "metadata": {},
   "outputs": [],
   "source": [
    "train_data = np.load(\"Data/train_rois4.npy\", encoding='latin1')[:,1]\n",
    "org_data = np.load(\"Data/train_images.npy\", encoding='latin1')[:,1]\n",
    "test_data = np.load(\"Data/test_rois4.npy\", encoding='latin1')[:,1]\n",
    "train_labels = pd.read_csv(\"Data/train_labels.csv\")\n",
    "labels = np.array(train_labels)[:,1]\n",
    "labels = LabelEncoder().fit_transform(labels)"
   ]
  }
 ],
 "metadata": {
  "kernelspec": {
   "display_name": "Python [conda env:fondements_ml]",
   "language": "python",
   "name": "conda-env-fondements_ml-py"
  },
  "language_info": {
   "codemirror_mode": {
    "name": "ipython",
    "version": 3
   },
   "file_extension": ".py",
   "mimetype": "text/x-python",
   "name": "python",
   "nbconvert_exporter": "python",
   "pygments_lexer": "ipython3",
   "version": "3.6.3"
  }
 },
 "nbformat": 4,
 "nbformat_minor": 2
}
