{
 "cells": [
  {
   "cell_type": "code",
   "execution_count": null,
   "metadata": {
    "collapsed": true
   },
   "outputs": [],
   "source": [
    "import numpy as np\n",
    "import pandas as pd\n",
    "import matplotlib.pyplot as plt\n",
    "from sklearn.preprocessing import LabelEncoder\n",
    "from sklearn.model_selection import train_test_split"
   ]
  },
  {
   "cell_type": "code",
   "execution_count": null,
   "metadata": {
    "collapsed": true
   },
   "outputs": [],
   "source": [
    "train_data = np.load(\"Data/train_rois4.npy\", encoding='latin1')[:,1]\n",
    "test_data = np.load(\"Data/test_rois4.npy\", encoding='latin1')[:,1]\n",
    "train_labels = pd.read_csv(\"Data/train_labels.csv\")\n",
    "labels = np.array(train_labels)[:,1]\n",
    "labels = LabelEncoder().fit_transform(labels)\n",
    "\n",
    "\n",
    "def convert_images(image_dataset, conversion = 'uint8'):\n",
    "    for i in range(len(image_dataset)):\n",
    "        image_dataset[i] = image_dataset[i].astype(conversion)\n",
    "\n",
    "convert_images(train_data)\n",
    "convert_images(test_data)\n",
    "\n",
    "import cv2\n",
    "img = cv2.fastNlMeansDenoising(obs[0],h=10)\n",
    "\n",
    "plt.imshow(img.reshape(100,100))\n",
    "\n",
    "plt.imshow(train_data[3].reshape(100,100))\n",
    "\n",
    "zero_ix = np.where(labels == 0)\n",
    "\n",
    "obs = train_data[zero_ix]"
   ]
  }
 ],
 "metadata": {
  "kernelspec": {
   "display_name": "Python [conda env:fondements_ml]",
   "language": "python",
   "name": "conda-env-fondements_ml-py"
  },
  "language_info": {
   "codemirror_mode": {
    "name": "ipython",
    "version": 3
   },
   "file_extension": ".py",
   "mimetype": "text/x-python",
   "name": "python",
   "nbconvert_exporter": "python",
   "pygments_lexer": "ipython3",
   "version": "3.6.3"
  }
 },
 "nbformat": 4,
 "nbformat_minor": 2
}
