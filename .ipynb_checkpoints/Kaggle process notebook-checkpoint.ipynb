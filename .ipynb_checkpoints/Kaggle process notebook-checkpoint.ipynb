{
 "cells": [
  {
   "cell_type": "code",
   "execution_count": 1,
   "metadata": {},
   "outputs": [],
   "source": [
    "import numpy as np\n",
    "import pandas as pd\n",
    "import matplotlib.pyplot as plt\n",
    "from sklearn.svm import SVC\n",
    "from sklearn.linear_model import LogisticRegression\n",
    "from sklearn.naive_bayes import GaussianNB\n",
    "from sklearn.model_selection import KFold\n",
    "from sklearn.preprocessing import LabelEncoder\n",
    "from sklearn.model_selection import train_test_split\n",
    "from sklearn.neural_network import MLPClassifier\n",
    "from sklearn.ensemble import RandomForestClassifier, GradientBoostingClassifier\n",
    "\n",
    "%load_ext autoreload\n",
    "%autoreload 2"
   ]
  },
  {
   "cell_type": "markdown",
   "metadata": {},
   "source": [
    "### Data pre-processing"
   ]
  },
  {
   "cell_type": "code",
   "execution_count": 243,
   "metadata": {},
   "outputs": [],
   "source": [
    "train_data = np.load(\"/Users/julienhorwood/Documents/Masters courses/IFT1630/Assignments/Assignment4/Data/train_rois4.npy\", encoding='latin1')[:,1]\n",
    "test_data = np.load(\"/Users/julienhorwood/Documents/Masters courses/IFT1630/Assignments/Assignment4/Data/test_rois4.npy\", encoding='latin1')[:,1]\n",
    "train_labels = pd.read_csv(\"/Users/julienhorwood/Documents/Masters courses/IFT1630/Assignments/Assignment4/Data/train_labels.csv\")\n",
    "labels = np.array(train_labels)[:,1]\n",
    "label_encoder = LabelEncoder()\n",
    "labels = label_encoder.fit_transform(labels)\n",
    "train_data = np.array([train_data[i].reshape(1,28,28) for i in range(len(train_data))])"
   ]
  },
  {
   "cell_type": "markdown",
   "metadata": {},
   "source": [
    "### Training baselines"
   ]
  },
  {
   "cell_type": "code",
   "execution_count": null,
   "metadata": {},
   "outputs": [],
   "source": [
    "logreg= LogisticRegression(class_weight = \"balanced\", multi_class='multinomial', solver='saga')\n",
    "nb = GaussianNB()\n",
    "mlp = MLPClassifier(hidden_layer_sizes=(100), learning_rate_init = 0.01, learning_rate = 'adaptive')\n",
    "\n",
    "nb.fit(Xtrain,ytrain)\n",
    "mlp.fit(Xtrain,ytrain)\n",
    "logreg.fit(Xtrain,ytrain)"
   ]
  },
  {
   "cell_type": "markdown",
   "metadata": {},
   "source": [
    "### Testing baselines"
   ]
  },
  {
   "cell_type": "code",
   "execution_count": null,
   "metadata": {
    "collapsed": true
   },
   "outputs": [],
   "source": [
    "#Naive bayes predictions\n",
    "nb_preds = nb.predict(Xvalid)\n",
    "num_correct_nb= np.sum(nb_preds == yvalid)\n",
    "\n",
    "#MLP Classifier predictions\n",
    "mlp_preds = mlp.predict(Xvalid)\n",
    "num_correct_mlp= np.sum(mlp_preds == yvalid)\n",
    "\n",
    "#Logistic Regression predictions\n",
    "logreg_preds = logreg.predict(Xvalid)\n",
    "num_correct_logreg = np.sum(logreg_preds == yvalid)"
   ]
  },
  {
   "cell_type": "code",
   "execution_count": null,
   "metadata": {},
   "outputs": [],
   "source": [
    "print(\"Naive bayes accuracy: \", num_correct_nb/len(yvalid) * 100, \"%\")\n",
    "print(\"Logistic Regression accuracy: \", num_correct_logreg/len(yvalid) * 100, \"%\")\n",
    "print(\"MLP accuracy: \", num_correct_mlp/len(yvalid) * 100, \"%\")"
   ]
  },
  {
   "cell_type": "markdown",
   "metadata": {},
   "source": [
    "### Convnet"
   ]
  },
  {
   "cell_type": "code",
   "execution_count": 250,
   "metadata": {},
   "outputs": [],
   "source": [
    "import numpy as np\n",
    "import pandas as pd\n",
    "import matplotlib.pyplot as plt\n",
    "import os\n",
    "import pickle\n",
    "import random\n",
    "import torch\n",
    "import torch.nn as nn\n",
    "import torch.nn.functional as F\n",
    "import torch.optim as optim\n",
    "from torchvision import datasets, transforms\n",
    "from torch.utils.data import DataLoader,Dataset\n",
    "from torch.utils.data.sampler import SubsetRandomSampler\n",
    "from sklearn.preprocessing import LabelEncoder\n",
    "%matplotlib inline\n",
    "import random\n",
    "import cnn\n",
    "import matplotlib.ticker as ticker"
   ]
  },
  {
   "cell_type": "markdown",
   "metadata": {},
   "source": [
    "### Data Loading"
   ]
  },
  {
   "cell_type": "code",
   "execution_count": null,
   "metadata": {},
   "outputs": [],
   "source": [
    "class QuickDrawDataset(Dataset):\n",
    "\n",
    "    def __init__(self, data_path, label_path, transform=None):\n",
    "        self.data =  np.load(data_path, encoding='latin1')[:,1]\n",
    "        train_labels =  pd.read_csv(label_path)\n",
    "        train_labels = np.array(train_labels)[:,1]\n",
    "        self.labels = LabelEncoder().fit_transform(train_labels)\n",
    "        self.transform = transform\n",
    "\n",
    "    def __len__(self):\n",
    "        return len(self.data)\n",
    "\n",
    "    def __getitem__(self, idx):\n",
    "        sample = self.data[idx].reshape(1,28,28)\n",
    "        target = self.labels[idx]\n",
    "\n",
    "        if self.transform:\n",
    "            sample = self.transform(sample)\n",
    "\n",
    "        return sample,target"
   ]
  },
  {
   "cell_type": "code",
   "execution_count": null,
   "metadata": {},
   "outputs": [],
   "source": [
    "train_data = QuickDrawDataset(\"Data/train_rois4.npy\",\"Data/train_labels.csv\" )\n",
    "batch_size = 64\n",
    "batch_size_eval = 512\n",
    "n_valid = 1000\n",
    "indices = list(range(len(train_data)))\n",
    "random.shuffle(indices)\n",
    "\n",
    "train_loader = DataLoader(\n",
    "    train_data,\n",
    "    batch_size=batch_size,\n",
    "    sampler=SubsetRandomSampler(indices[n_valid:])\n",
    ")\n",
    "\n",
    "valid_loader = DataLoader(\n",
    "    train_data,\n",
    "    batch_size=batch_size_eval,\n",
    "    sampler=SubsetRandomSampler(indices[:n_valid])\n",
    ")\n",
    "\n",
    "for inputs,targets in train_loader:\n",
    "    print(\"This is the shape of one batch\" ,inputs.shape)\n",
    "    print(\"target\", targets.shape)\n",
    "    img = inputs[0,0]\n",
    "    plt.imshow(img, cmap='Greys_r')\n",
    "    break"
   ]
  },
  {
   "cell_type": "markdown",
   "metadata": {},
   "source": [
    "### Train utilities"
   ]
  },
  {
   "cell_type": "code",
   "execution_count": null,
   "metadata": {},
   "outputs": [],
   "source": [
    "# If a GPU is available, use it\n",
    "# Pytorch uses an elegant way to keep the code device agnostic\n",
    "if torch.cuda.is_available():\n",
    "    device = torch.device(\"cuda\")\n",
    "    use_cuda = True\n",
    "else:\n",
    "    device = torch.device(\"cpu\")\n",
    "    use_cuda = False\n",
    "    \n",
    "print(device)\n",
    "\n",
    "def train(model,train_loader, optimizer, epoch ):\n",
    "    \"\"\"Perform one epoch of training.\"\"\"\n",
    "    model.train()\n",
    "    \n",
    "    for batch_idx, (inputs, target) in enumerate(train_loader):\n",
    "        inputs, target = inputs.to(device), target.to(device)\n",
    "        \n",
    "        # Let them code what's here\n",
    "        optimizer.zero_grad()\n",
    "        output = model(inputs)\n",
    "        loss = loss_fn(output, target)\n",
    "        loss.backward()\n",
    "        optimizer.step()\n",
    "        ###\n",
    "        \n",
    "        if batch_idx % 30 == 0:\n",
    "            print('Train Epoch: {} [{}/{} ({:.0f}%)]\\tLoss: {:.6f}'.format(\n",
    "                epoch, batch_idx * len(inputs), len(train_loader) *len(inputs) ,\n",
    "                100. * batch_idx / len(train_loader), loss.item()))\n",
    "def test(model, test_loader):\n",
    "    \"\"\"Evaluate the model by doing one pass over a dataset\"\"\"\n",
    "    model.eval()\n",
    "    \n",
    "    test_loss = 0\n",
    "    correct = 0\n",
    "    test_size = 0\n",
    "    with torch.no_grad():\n",
    "        for inputs, target in test_loader:\n",
    "            inputs, target = inputs.to(device), target.to(device)\n",
    "            \n",
    "            # let them code what's here\n",
    "            output = model(inputs)\n",
    "            test_size += len(inputs)\n",
    "            test_loss += test_loss_fn(output, target).item() # sum up batch loss\n",
    "            pred = output.max(1, keepdim=True)[1] # get the index of the max log-probability\n",
    "            correct += pred.eq(target.view_as(pred)).sum().item()\n",
    "\n",
    "    test_loss /= test_size\n",
    "    accuracy = correct / test_size\n",
    "    print('\\nTest set: Average loss: {:.4f}, Accuracy: {}/{} ({:.0f}%)\\n'.format(\n",
    "        test_loss, correct, test_size,\n",
    "        100. * accuracy))\n",
    "    \n",
    "    return test_loss, accuracy"
   ]
  },
  {
   "cell_type": "markdown",
   "metadata": {},
   "source": [
    "### Model training"
   ]
  },
  {
   "cell_type": "code",
   "execution_count": null,
   "metadata": {},
   "outputs": [],
   "source": [
    "model = cnn.KaggleNet()\n",
    "model = model.double()\n",
    "loss_fn = nn.CrossEntropyLoss()\n",
    "test_loss_fn = nn.CrossEntropyLoss(reduction='sum')\n",
    "lr = 0.001\n",
    "optimizer = optim.Adam(model.parameters(), lr = lr)"
   ]
  },
  {
   "cell_type": "code",
   "execution_count": null,
   "metadata": {},
   "outputs": [],
   "source": [
    "savedir = \"logs/\"\n",
    "\n",
    "results = {'name':'trainlog', 'lr': lr, 'loss': [], 'accuracy':[]}\n",
    "savefile = os.path.join(savedir, results['name']+str(results['lr'])+'.pkl' )\n",
    "\n",
    "for epoch in range(1, 10):\n",
    "    train(model, train_loader, optimizer, epoch)\n",
    "    loss, acc = test(model, valid_loader)\n",
    "    \n",
    "    # save results every epoch\n",
    "    results['loss'].append(loss)\n",
    "    results['accuracy'].append(acc)\n",
    "    with open(savefile, 'wb') as fout:\n",
    "        pickle.dump(results, fout)"
   ]
  },
  {
   "cell_type": "markdown",
   "metadata": {},
   "source": [
    "### Or just use skorch!"
   ]
  },
  {
   "cell_type": "code",
   "execution_count": 2,
   "metadata": {},
   "outputs": [],
   "source": [
    "from skorch import NeuralNetClassifier\n",
    "from skorch.dataset import CVSplit"
   ]
  },
  {
   "cell_type": "code",
   "execution_count": 198,
   "metadata": {},
   "outputs": [],
   "source": [
    "# If a GPU is available, use it\n",
    "# Pytorch uses an elegant way to keep the code device agnostic\n",
    "if torch.cuda.is_available():\n",
    "    device = torch.device(\"cuda\")\n",
    "    use_cuda = True\n",
    "else:\n",
    "    device = torch.device(\"cpu\")\n",
    "    use_cuda = False\n",
    "\n",
    "#Run more epochs on GPU\n",
    "net = NeuralNetClassifier(module=cnn.KaggleNet().double(), criterion=nn.CrossEntropyLoss, optimizer = optim.Adam, \n",
    "                          lr= 0.005, max_epochs = 5, train_split = CVSplit(0.1, random_state = 0)\n",
    "                          , device = device, iterator_train__batch_size = 64, iterator_valid__batch_size=512)"
   ]
  },
  {
   "cell_type": "code",
   "execution_count": 78,
   "metadata": {},
   "outputs": [
    {
     "name": "stdout",
     "output_type": "stream",
     "text": [
      "  epoch    train_loss    valid_acc    valid_loss      dur\n",
      "-------  ------------  -----------  ------------  -------\n",
      "      1        \u001b[36m1.5966\u001b[0m       \u001b[32m0.6540\u001b[0m        \u001b[35m1.2124\u001b[0m  88.1728\n",
      "      2        \u001b[36m1.0658\u001b[0m       \u001b[32m0.6720\u001b[0m        \u001b[35m1.1147\u001b[0m  86.6409\n"
     ]
    },
    {
     "data": {
      "text/plain": [
       "<class 'skorch.classifier.NeuralNetClassifier'>[initialized](\n",
       "  module_=KaggleNet(\n",
       "    (conv1): Conv2d(1, 32, kernel_size=(5, 5), stride=(1, 1), padding=(2, 2))\n",
       "    (bn1): BatchNorm2d(32, eps=1e-05, momentum=0.1, affine=True, track_running_stats=True)\n",
       "    (conv2): Conv2d(32, 32, kernel_size=(3, 3), stride=(1, 1), padding=(1, 1))\n",
       "    (bn2): BatchNorm2d(32, eps=1e-05, momentum=0.1, affine=True, track_running_stats=True)\n",
       "    (conv3): Conv2d(32, 64, kernel_size=(3, 3), stride=(1, 1), padding=(1, 1))\n",
       "    (bn3): BatchNorm2d(64, eps=1e-05, momentum=0.1, affine=True, track_running_stats=True)\n",
       "    (dropout1): Dropout(p=0.2)\n",
       "    (fc1): Linear(in_features=3136, out_features=512, bias=True)\n",
       "    (bn4): BatchNorm1d(512, eps=1e-05, momentum=0.1, affine=True, track_running_stats=True)\n",
       "    (dropout2): Dropout(p=0.2)\n",
       "    (fc2): Linear(in_features=512, out_features=31, bias=True)\n",
       "  ),\n",
       ")"
      ]
     },
     "execution_count": 78,
     "metadata": {},
     "output_type": "execute_result"
    }
   ],
   "source": [
    "net.fit(train_data,labels)"
   ]
  },
  {
   "cell_type": "markdown",
   "metadata": {},
   "source": [
    "#### Easily persist and load the model"
   ]
  },
  {
   "cell_type": "code",
   "execution_count": 80,
   "metadata": {},
   "outputs": [],
   "source": [
    "net.save_params(f_params='Model outputs/model_params.pkl', f_history='Model outputs/model_history.pkl', f_optimizer='Model outputs/model_optimizer.pkl')"
   ]
  },
  {
   "cell_type": "code",
   "execution_count": 207,
   "metadata": {},
   "outputs": [],
   "source": [
    "#Loading\n",
    "net = NeuralNetClassifier(module = cnn.KaggleNet().double(), criterion = nn.CrossEntropyLoss)\n",
    "net.initialize()\n",
    "net.load_params('Model outputs/model_params.pkl', \n",
    "                f_history='Model outputs/model_history.pkl', f_optimizer='Model outputs/model_optimizer.pkl')"
   ]
  },
  {
   "cell_type": "markdown",
   "metadata": {},
   "source": [
    "### Plotting and metrics\n",
    "\n",
    "#### Learning curves"
   ]
  },
  {
   "cell_type": "code",
   "execution_count": 100,
   "metadata": {},
   "outputs": [],
   "source": [
    "train_losses = net.history[:,'train_loss']\n",
    "valid_losses = net.history[:, 'valid_loss']\n",
    "accuracies = net.history[:, 'valid_acc']"
   ]
  },
  {
   "cell_type": "code",
   "execution_count": 121,
   "metadata": {},
   "outputs": [
    {
     "data": {
      "image/png": "[encoded data removed]",
      "text/plain": [
       "<Figure size 1440x360 with 3 Axes>"
      ]
     },
     "metadata": {
      "needs_background": "light"
     },
     "output_type": "display_data"
    }
   ],
   "source": [
    "fig, (ax1,ax2,ax3) = plt.subplots(1,3, figsize = (20,5))\n",
    "ax1.set_title(\"Training losses per epoch\")\n",
    "ax1.set_xlabel(\"Epochs\")\n",
    "ax1.set_ylabel(\"Cross Entropy\")\n",
    "ax1.plot(train_losses)\n",
    "\n",
    "ax2.set_title(\"Validation losses per epoch\")\n",
    "ax2.set_xlabel(\"Epochs\")\n",
    "ax2.set_ylabel(\"Cross Entropy\")\n",
    "ax2.plot(valid_losses)\n",
    "\n",
    "\n",
    "ax3.set_title(\"Validation accuracies per epoch\")\n",
    "ax3.set_xlabel(\"Epochs\")\n",
    "ax3.set_ylabel(\"Average accuracy\")\n",
    "ax3.plot(accuracies)\n",
    "\n",
    "fig.savefig(\"Analysis/learning_curves.png\")"
   ]
  },
  {
   "cell_type": "markdown",
   "metadata": {},
   "source": [
    "#### Confusion matrix"
   ]
  },
  {
   "cell_type": "code",
   "execution_count": 122,
   "metadata": {},
   "outputs": [],
   "source": [
    "from sklearn.metrics import confusion_matrix"
   ]
  },
  {
   "cell_type": "code",
   "execution_count": 209,
   "metadata": {},
   "outputs": [],
   "source": [
    "train,valid = CVSplit(0.1,random_state=0).__call__(train_data,labels)\n",
    "Xvalid, yvalid = valid.dataset[valid.indices], labels[valid.indices]\n",
    "preds = net.predict(Xvalid)\n",
    "cm = confusion_matrix(y_pred= preds,y_true=yvalid)"
   ]
  },
  {
   "cell_type": "code",
   "execution_count": 353,
   "metadata": {},
   "outputs": [
    {
     "data": {
      "text/plain": [
       "Text(0.5,0,'Predicted label')"
      ]
     },
     "execution_count": 353,
     "metadata": {},
     "output_type": "execute_result"
    },
    {
     "data": {
      "image/png": "[encoded data removed]",
      "text/plain": [
       "<Figure size 1080x720 with 2 Axes>"
      ]
     },
     "metadata": {
      "needs_background": "light"
     },
     "output_type": "display_data"
    }
   ],
   "source": [
    "fig = plt.figure(figsize=(15,10))\n",
    "ax = fig.add_subplot(111)\n",
    "fig.suptitle('Confusion matrix')\n",
    "cm = cm/cm.sum(axis=1)[: np.newaxis]\n",
    "fig.colorbar(ax.matshow(cm,cmap = plt.cm.Greens))\n",
    "\n",
    "#Fixing tick labels to add first and last dummy\n",
    "ticks = [0]\n",
    "ticks.extend(label_encoder.inverse_transform(range(31)))\n",
    "ticks.append(0)\n",
    "\n",
    "# Set up axes\n",
    "ax.set_xticklabels(ticks, rotation=90)\n",
    "ax.set_yticklabels(ticks)\n",
    "\n",
    "# Force label at every tick\n",
    "ax.xaxis.set_major_locator(ticker.MultipleLocator(1))\n",
    "ax.yaxis.set_major_locator(ticker.MultipleLocator(1))\n",
    "\n",
    "ax.set_ylabel('True label')\n",
    "ax.set_xlabel('Predicted label')\n",
    "\n",
    "fig.savefig(\"Analysis/confusion_matrix.png\")"
   ]
  },
  {
   "cell_type": "markdown",
   "metadata": {},
   "source": [
    "#### Per class f1 and accuracy scores"
   ]
  },
  {
   "cell_type": "code",
   "execution_count": 394,
   "metadata": {},
   "outputs": [],
   "source": [
    "from sklearn.metrics import precision_recall_fscore_support,classification_report\n",
    "report = precision_recall_fscore_support(yvalid, preds)\n",
    "\n",
    "#Compute class accuracies\n",
    "class_acc = []\n",
    "for i in range(31):\n",
    "    idx = np.where(yvalid == i)\n",
    "    class_acc.append(np.mean(preds[idx] == i).round(2))\n",
    "    \n",
    "out_dict = {\n",
    "             \"precision\" : report[0].round(2)\n",
    "            ,\"recall\" : report[1].round(2)\n",
    "            ,\"f1-score\" : report[2].round(2)\n",
    "            , \"accuracy\" : class_acc\n",
    "            ,\"support\" : report[3]\n",
    "            }\n",
    "out_df = pd.DataFrame(out_dict, index = ticks[1:32])\n",
    "\n",
    "\n",
    "    \n",
    "#Compute average\n",
    "averages = out_df.mean(axis = 0).round(2).to_frame().T\n",
    "averages.index = [\"average\"]\n",
    "\n",
    "#Compute weighted average\n",
    "w_precision = (np.array(out_df.precision * out_df.support).sum()/(out_df.support.sum())).round(2)\n",
    "w_recall = (np.array(out_df.recall * out_df.support).sum()/(out_df.support.sum())).round(2)\n",
    "w_f1 = (np.array(out_df['f1-score'] * out_df.support).sum()/(out_df.support.sum())).round(2)\n",
    "w_accuracy = (np.array(out_df.accuracy * out_df.support).sum()/(out_df.support.sum())).round(2)\n",
    "w_support = np.mean(out_df.support).round(2)\n",
    "w_averages = pd.DataFrame({'precision' : w_precision,'recall': w_recall, \n",
    "                           'f1-score': w_f1,'accuracy' : w_accuracy,'support': w_support},index=['weighted average'])\n",
    "w_averages.index = ['weighted average']\n",
    "\n",
    "\n",
    "out_df = out_df.append(averages)\n",
    "out_df = out_df.append(w_averages)\n",
    "\n",
    "\n",
    "out_df.to_csv(\"Analysis/validation_scoring.csv\")"
   ]
  },
  {
   "cell_type": "code",
   "execution_count": 390,
   "metadata": {},
   "outputs": [],
   "source": []
  }
 ],
 "metadata": {
  "kernelspec": {
   "display_name": "Python [conda env:fondements_ml]",
   "language": "python",
   "name": "conda-env-fondements_ml-py"
  },
  "language_info": {
   "codemirror_mode": {
    "name": "ipython",
    "version": 3
   },
   "file_extension": ".py",
   "mimetype": "text/x-python",
   "name": "python",
   "nbconvert_exporter": "python",
   "pygments_lexer": "ipython3",
   "version": "3.6.3"
  }
 },
 "nbformat": 4,
 "nbformat_minor": 2
}
